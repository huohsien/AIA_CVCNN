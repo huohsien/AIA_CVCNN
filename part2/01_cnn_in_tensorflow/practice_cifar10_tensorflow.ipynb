{
 "cells": [
  {
   "cell_type": "markdown",
   "metadata": {
    "colab_type": "text",
    "id": "MGJ3g5NIMzBN"
   },
   "source": [
    "## This notebook is modfied by [Udacity deeplearning courses github](https://github.com/udacity/deep-learning)"
   ]
  },
  {
   "cell_type": "markdown",
   "metadata": {
    "colab_type": "text",
    "id": "Vz9YY3aSMzBO"
   },
   "source": [
    "# Image Classification\n",
    "In this practice, you'll classify images from the [CIFAR-10 dataset](https://www.cs.toronto.edu/~kriz/cifar.html).  The dataset consists of airplanes, dogs, cats, and other objects. You'll preprocess the images, then train a convolutional neural network on all the samples. The images need to be normalized and the labels need to be one-hot encoded.  You'll get to apply what you learned and build a convolutional, max pooling, dropout, and fully connected layers.  At the end, you'll get to see your neural network's predictions on the sample images.\n",
    "## Get the Data\n",
    "Run the following cell to download the [CIFAR-10 dataset for python](https://www.cs.toronto.edu/~kriz/cifar-10-python.tar.gz)."
   ]
  },
  {
   "cell_type": "code",
   "execution_count": 1,
   "metadata": {
    "colab": {},
    "colab_type": "code",
    "id": "CFw48zjJMzBO"
   },
   "outputs": [
    {
     "name": "stderr",
     "output_type": "stream",
     "text": [
      "/opt/conda/lib/python3.6/site-packages/h5py/__init__.py:36: FutureWarning: Conversion of the second argument of issubdtype from `float` to `np.floating` is deprecated. In future, it will be treated as `np.float64 == np.dtype(float).type`.\n",
      "  from ._conv import register_converters as _register_converters\n"
     ]
    },
    {
     "name": "stdout",
     "output_type": "stream",
     "text": [
      "All files found!\n"
     ]
    }
   ],
   "source": [
    "\"\"\"\n",
    "DON'T MODIFY ANYTHING IN THIS CELL THAT IS BELOW THIS LINE\n",
    "\"\"\"\n",
    "from urllib.request import urlretrieve\n",
    "from os.path import isfile, isdir\n",
    "from tqdm import tqdm\n",
    "import problem_unittests as tests\n",
    "import tarfile\n",
    "\n",
    "\n",
    "cifar10_dataset_folder_path = 'cifar-10-batches-py'\n",
    "\n",
    "# # Use Floyd's cifar-10 dataset if present\n",
    "# floyd_cifar10_location = '/input/cifar-10/python.tar.gz'\n",
    "# if isfile(floyd_cifar10_location):\n",
    "#     tar_gz_path = floyd_cifar10_location\n",
    "# else:\n",
    "#     tar_gz_path = 'cifar-10-python.tar.gz'\n",
    "\n",
    "# class DLProgress(tqdm):\n",
    "#     last_block = 0\n",
    "\n",
    "#     def hook(self, block_num=1, block_size=1, total_size=None):\n",
    "#         self.total = total_size\n",
    "#         self.update((block_num - self.last_block) * block_size)\n",
    "#         self.last_block = block_num\n",
    "\n",
    "# if not isfile(tar_gz_path):\n",
    "#     with DLProgress(unit='B', unit_scale=True, miniters=1, desc='CIFAR-10 Dataset') as pbar:\n",
    "#         urlretrieve(\n",
    "#             'https://www.cs.toronto.edu/~kriz/cifar-10-python.tar.gz',\n",
    "#             tar_gz_path,\n",
    "#             pbar.hook)\n",
    "\n",
    "# if not isdir(cifar10_dataset_folder_path):\n",
    "#     with tarfile.open(tar_gz_path) as tar:\n",
    "#         tar.extractall()\n",
    "#         tar.close()\n",
    "\n",
    "\n",
    "tests.test_folder_path(cifar10_dataset_folder_path)"
   ]
  },
  {
   "cell_type": "markdown",
   "metadata": {
    "colab_type": "text",
    "id": "taN0FThRMzBT"
   },
   "source": [
    "## Explore the Data\n",
    "The dataset is broken into batches to prevent your machine from running out of memory.  The CIFAR-10 dataset consists of 5 batches, named `data_batch_1`, `data_batch_2`, etc.. Each batch contains the labels and images that are one of the following:\n",
    "* airplane\n",
    "* automobile\n",
    "* bird\n",
    "* cat\n",
    "* deer\n",
    "* dog\n",
    "* frog\n",
    "* horse\n",
    "* ship\n",
    "* truck\n",
    "\n",
    "Understanding a dataset is part of making predictions on the data.  Play around with the code cell below by changing the `batch_id` and `sample_id`. The `batch_id` is the id for a batch (1-5). The `sample_id` is the id for a image and label pair in the batch.\n",
    "\n",
    "Ask yourself \"What are all possible labels?\", \"What is the range of values for the image data?\", \"Are the labels in order or random?\".  Answers to questions like these will help you preprocess the data and end up with better predictions."
   ]
  },
  {
   "cell_type": "code",
   "execution_count": 2,
   "metadata": {
    "colab": {},
    "colab_type": "code",
    "id": "hTdMpmWbMzBT"
   },
   "outputs": [
    {
     "name": "stdout",
     "output_type": "stream",
     "text": [
      "\n",
      "Stats of batch 1:\n",
      "Samples: 10000\n",
      "Label Counts: {0: 1005, 1: 974, 2: 1032, 3: 1016, 4: 999, 5: 937, 6: 1030, 7: 1001, 8: 1025, 9: 981}\n",
      "First 20 Labels: [6, 9, 9, 4, 1, 1, 2, 7, 8, 3, 4, 7, 7, 2, 9, 9, 9, 3, 2, 6]\n",
      "\n",
      "Example of Image 0:\n",
      "Image - Min Value: 0 Max Value: 255\n",
      "Image - Shape: (32, 32, 3)\n",
      "Label - Label Id: 6 Name: frog\n"
     ]
    },
    {
     "data": {
      "image/png": "[encoded data removed]",
      "text/plain": [
       "<Figure size 432x288 with 1 Axes>"
      ]
     },
     "metadata": {
      "image/png": {
       "height": 250,
       "width": 253
      },
      "needs_background": "light"
     },
     "output_type": "display_data"
    }
   ],
   "source": [
    "%matplotlib inline\n",
    "%config InlineBackend.figure_format = 'retina'\n",
    "\n",
    "import helper\n",
    "import numpy as np\n",
    "\n",
    "# 更改 batch_id, sample_id 看不同的圖片資料\n",
    "batch_id = 1\n",
    "sample_id = 0\n",
    "helper.display_stats(cifar10_dataset_folder_path, batch_id, sample_id)"
   ]
  },
  {
   "cell_type": "markdown",
   "metadata": {
    "colab_type": "text",
    "id": "BuVeS29TMzBV"
   },
   "source": [
    "## Implement Preprocess Functions\n",
    "\n",
    "接下來的練習，都需要你按照需求寫出對應的 function。寫完後執行 cell 會對你寫好的 function 做測試，如果正確就會出現 **Tests Passed**，若是不正確則會看到 **Assert error**，並回傳相對應的錯誤，代表沒有寫出符合要求的 function\n",
    "### Normalize\n",
    "In the cell below, implement the `normalize` function to take in image data, `x`, and return it as a normalized Numpy array. The values should be in the range of 0 to 1, inclusive.  The return object should be the same shape as `x`."
   ]
  },
  {
   "cell_type": "code",
   "execution_count": 3,
   "metadata": {
    "colab": {},
    "colab_type": "code",
    "id": "-3912baMMzBW",
    "outputId": "38ef6b0e-b79d-49fd-9665-25ebe44fe2f6"
   },
   "outputs": [
    {
     "name": "stdout",
     "output_type": "stream",
     "text": [
      "Tests Passed\n"
     ]
    }
   ],
   "source": [
    "import numpy as np\n",
    "# test_x = np.array([1,2,3,4,-1,-2])\n",
    "# print(\"max= \",test_x.max())\n",
    "\n",
    "def normalize(x):\n",
    "    \"\"\"\n",
    "    Normalize a list of sample image data in the range of 0 to 1\n",
    "    : x: List of image data.  The image shape is (32, 32, 3)\n",
    "    : return: Numpy array of normalize data\n",
    "    \"\"\"\n",
    "    # TODO: Implement Function\n",
    "    # 你可以使用 print(x)，直接查看 x 是不是已經被 normalize 了\n",
    "    x = (x -x.min())/(x.max() - x.min())\n",
    "    \n",
    "    return x\n",
    "\n",
    "\n",
    "\"\"\"\n",
    "DON'T MODIFY ANYTHING IN THIS CELL THAT IS BELOW THIS LINE\n",
    "\"\"\"\n",
    "tests.test_normalize(normalize)"
   ]
  },
  {
   "cell_type": "markdown",
   "metadata": {
    "colab_type": "text",
    "id": "HBf7U9gbMzBb"
   },
   "source": [
    "### One-hot encode\n",
    "Just like the previous code cell, you'll be implementing a function for preprocessing.  This time, you'll implement the `one_hot_encode` function. The input, `x`, are a list of labels.  Implement the function to return the list of labels as One-Hot encoded Numpy array.  The possible values for labels are 0 to 9. The one-hot encoding function should return the same encoding for each value between each call to `one_hot_encode`.  Make sure to save the map of encodings outside the function.\n",
    "\n",
    "Hint: Don't reinvent the wheel."
   ]
  },
  {
   "cell_type": "code",
   "execution_count": 4,
   "metadata": {
    "colab": {},
    "colab_type": "code",
    "id": "-L0bBL3_MzBb"
   },
   "outputs": [
    {
     "name": "stdout",
     "output_type": "stream",
     "text": [
      "Tests Passed\n"
     ]
    }
   ],
   "source": [
    "import numpy as np\n",
    "def one_hot_encode(x):\n",
    "    \"\"\"\n",
    "    One hot encode a list of sample labels. Return a one-hot encoded vector for each label.\n",
    "    : x: List of sample Labels\n",
    "    : return: Numpy array of one-hot encoded labels\n",
    "    \"\"\"\n",
    "    # TODO: Implement Function\n",
    "    # HINT: google \"np.eye\" or use label encoder from sklearn\n",
    "    # Cifar-10 如同其名，共有 10 個 class, 請把 list 轉成 one-hot encoding \n",
    "\n",
    "    one_hot_encode = np.zeros((len(x),10))\n",
    "    for i in range(len(x)):\n",
    "        one_hot_encode[i][x[i]] = 1\n",
    "    return one_hot_encode\n",
    "\n",
    "\n",
    "\"\"\"\n",
    "DON'T MODIFY ANYTHING IN THIS CELL THAT IS BELOW THIS LINE\n",
    "\"\"\"\n",
    "tests.test_one_hot_encode(one_hot_encode)"
   ]
  },
  {
   "cell_type": "markdown",
   "metadata": {
    "colab_type": "text",
    "id": "F4sm_EfUMzBc"
   },
   "source": [
    "### Randomize Data\n",
    "As you saw from exploring the data above, the order of the samples are randomized.  It doesn't hurt to randomize it again, but you don't need to for this dataset."
   ]
  },
  {
   "cell_type": "markdown",
   "metadata": {
    "colab_type": "text",
    "id": "IzkZGEr5MzBf"
   },
   "source": [
    "## Preprocess all the data and save it\n",
    "Running the code cell below will preprocess all the CIFAR-10 data and save it to file. The code below also uses 10% of the training data for validation."
   ]
  },
  {
   "cell_type": "code",
   "execution_count": 5,
   "metadata": {
    "colab": {},
    "colab_type": "code",
    "id": "daP2ui1KMzBg"
   },
   "outputs": [],
   "source": [
    "\"\"\"\n",
    "DON'T MODIFY ANYTHING IN THIS CELL\n",
    "\"\"\"\n",
    "# Preprocess Training, Validation, and Testing Data\n",
    "helper.preprocess_and_save_data(cifar10_dataset_folder_path, normalize, one_hot_encode)"
   ]
  },
  {
   "cell_type": "markdown",
   "metadata": {
    "colab_type": "text",
    "id": "rs4fZD5mMzBi"
   },
   "source": [
    "# Check Point\n",
    "This is your first checkpoint.  If you ever decide to come back to this notebook or have to restart the notebook, you can start from here.  The preprocessed data has been saved to disk."
   ]
  },
  {
   "cell_type": "code",
   "execution_count": 6,
   "metadata": {
    "colab": {},
    "colab_type": "code",
    "id": "-IIl0QEjMzBi"
   },
   "outputs": [],
   "source": [
    "\"\"\"\n",
    "DON'T MODIFY ANYTHING IN THIS CELL\n",
    "\"\"\"\n",
    "import pickle\n",
    "import problem_unittests as tests\n",
    "import helper\n",
    "\n",
    "# Load the Preprocessed Validation data\n",
    "valid_features, valid_labels = pickle.load(open('preprocess_validation.p', mode='rb'))"
   ]
  },
  {
   "cell_type": "code",
   "execution_count": 7,
   "metadata": {},
   "outputs": [
    {
     "data": {
      "image/png": "[encoded data removed]",
      "text/plain": [
       "<Figure size 432x288 with 1 Axes>"
      ]
     },
     "metadata": {
      "image/png": {
       "height": 250,
       "width": 253
      },
      "needs_background": "light"
     },
     "output_type": "display_data"
    }
   ],
   "source": [
    "%matplotlib inline\n",
    "import matplotlib.pyplot as plt\n",
    "img = valid_features[0]\n",
    "ax = plt.imshow(img)"
   ]
  },
  {
   "cell_type": "markdown",
   "metadata": {
    "colab_type": "text",
    "id": "N7OGnja4MzBl"
   },
   "source": [
    "## Build the network\n",
    "以下的練習希望大家透過 high level 的 [TensorFlow Layers](https://www.tensorflow.org/api_docs/python/tf/layers) packages  來完成 convolution, pooling 等操作，試著用自己的架構建出一個簡單的 CNN，完成 cifar-10 資料集的練習\n",
    "\n",
    "Let's begin!\n",
    "\n",
    "### Input\n",
    "The neural network needs to read the image data, one-hot encoded labels, and dropout keep probability. Implement the following functions\n",
    "* Implement `neural_net_image_input`\n",
    " * Return a [TF Placeholder](https://www.tensorflow.org/api_docs/python/tf/placeholder)\n",
    " * Set the shape using `image_shape` with batch size set to `None`.\n",
    " * Name the TensorFlow placeholder \"x\" using the TensorFlow `name` parameter in the [TF Placeholder](https://www.tensorflow.org/api_docs/python/tf/placeholder).\n",
    "* Implement `neural_net_label_input`\n",
    " * Return a [TF Placeholder](https://www.tensorflow.org/api_docs/python/tf/placeholder)\n",
    " * Set the shape using `n_classes` with batch size set to `None`.\n",
    " * Name the TensorFlow placeholder \"y\" using the TensorFlow `name` parameter in the [TF Placeholder](https://www.tensorflow.org/api_docs/python/tf/placeholder).\n",
    "* Implement `neural_net_keep_prob_input`\n",
    " * Return a [TF Placeholder](https://www.tensorflow.org/api_docs/python/tf/placeholder) for dropout keep probability.\n",
    " * Name the TensorFlow placeholder \"keep_prob\" using the TensorFlow `name` parameter in the [TF Placeholder](https://www.tensorflow.org/api_docs/python/tf/placeholder).\n",
    "\n",
    "These names will be used at the end of the project to load your saved model.\n",
    "\n",
    "Note: `None` for shapes in TensorFlow allow for a dynamic size."
   ]
  },
  {
   "cell_type": "code",
   "execution_count": 8,
   "metadata": {
    "colab": {},
    "colab_type": "code",
    "id": "pJ9HZ4kYMzBm"
   },
   "outputs": [
    {
     "name": "stdout",
     "output_type": "stream",
     "text": [
      "Image Input Tests Passed.\n",
      "Label Input Tests Passed.\n",
      "Keep Prob Tests Passed.\n"
     ]
    }
   ],
   "source": [
    "import tensorflow as tf\n",
    "\n",
    "def neural_net_image_input(image_shape):\n",
    "    \"\"\"\n",
    "    Return a Tensor for a batch of image input\n",
    "    : image_shape: Shape of the images\n",
    "    : return: Tensor for image input.\n",
    "    \"\"\"\n",
    "    # TODO: Implement Function\n",
    "    # 請命名為 x\n",
    "\n",
    "    return tf.placeholder(dtype=tf.float32, shape=(None,image_shape[0],image_shape[1],image_shape[2]), name='x')\n",
    "\n",
    "\n",
    "def neural_net_label_input(n_classes):\n",
    "    \"\"\"\n",
    "    Return a Tensor for a batch of label input\n",
    "    : n_classes: Number of classes\n",
    "    : return: Tensor for label input.\n",
    "    \"\"\"\n",
    "    # TODO: Implement Function\n",
    "    # 請命名為 y\n",
    "    \n",
    "    return tf.placeholder(dtype=tf.float32, shape=(None,n_classes), name='y')\n",
    "\n",
    "\n",
    "def neural_net_keep_prob_input():\n",
    "    \"\"\"\n",
    "    Return a Tensor for keep probability\n",
    "    : return: Tensor for keep probability.\n",
    "    \"\"\"\n",
    "    # TODO: Implement Function\n",
    "    # 請命名為 keep_prob\n",
    "\n",
    "    return tf.placeholder(dtype=tf.float32, name='keep_prob')\n",
    "\n",
    "\"\"\"\n",
    "DON'T MODIFY ANYTHING IN THIS CELL THAT IS BELOW THIS LINE\n",
    "\"\"\"\n",
    "tf.reset_default_graph()\n",
    "tests.test_nn_image_inputs(neural_net_image_input)\n",
    "tests.test_nn_label_inputs(neural_net_label_input)\n",
    "tests.test_nn_keep_prob_inputs(neural_net_keep_prob_input)"
   ]
  },
  {
   "cell_type": "markdown",
   "metadata": {
    "colab_type": "text",
    "id": "Pkr8h7MtMzBq"
   },
   "source": [
    "### Convolution and Max Pooling Layer\n",
    "Convolution layers have a lot of success with images. For this code cell, you should implement the function `conv2d_maxpool` to apply convolution then max pooling:\n",
    "* Apply a convolution to `x_tensor` using ** tf.layers.conv2d**.\n",
    "    * We recommend you use same padding, but you're welcome to use any padding.\n",
    "    * You need to add a nonlinear activation into the convolution. e.g. tf.nn.relu\n",
    "* Apply Max Pooling using **tf.layers.max_pooling2d**\n",
    "    * We recommend you use same padding, but you're welcome to use any padding.\n"
   ]
  },
  {
   "cell_type": "code",
   "execution_count": 9,
   "metadata": {
    "colab": {},
    "colab_type": "code",
    "id": "cF2Kan9cMzBq"
   },
   "outputs": [
    {
     "name": "stdout",
     "output_type": "stream",
     "text": [
      "Tests Passed\n"
     ]
    }
   ],
   "source": [
    "def conv2d_maxpool(x_tensor, conv_num_outputs, conv_ksize, conv_strides, pool_ksize, pool_strides):\n",
    "    \"\"\"\n",
    "    Apply convolution then max pooling to x_tensor\n",
    "    :param x_tensor: TensorFlow Tensor\n",
    "    :param conv_num_outputs: Number of outputs for the convolutional layer (number of filters)\n",
    "    :param conv_ksize: kernal size 2-D Tuple for the convolutional layer\n",
    "    :param conv_strides: Stride 2-D Tuple for convolution\n",
    "    :param pool_ksize: kernal size 2-D Tuple for pool\n",
    "    :param pool_strides: Stride 2-D Tuple for pool\n",
    "    : return: A tensor that represents convolution and max pooling of x_tensor\n",
    "    \"\"\"\n",
    "    # TODO: Implement Function\n",
    "    conv_layer = tf.layers.conv2d(\n",
    "        x_tensor,\n",
    "        conv_num_outputs,\n",
    "        conv_ksize,\n",
    "        strides=conv_strides,\n",
    "        padding='valid',\n",
    "        data_format='channels_last',\n",
    "        dilation_rate=(1, 1),\n",
    "        activation=tf.nn.relu,\n",
    "        use_bias=True,\n",
    "        kernel_initializer=None,\n",
    "        bias_initializer=tf.zeros_initializer(),\n",
    "        kernel_regularizer=None,\n",
    "        bias_regularizer=None,\n",
    "        activity_regularizer=None,\n",
    "        kernel_constraint=None,\n",
    "        bias_constraint=None,\n",
    "        trainable=True,\n",
    "        name=None,\n",
    "        reuse=None\n",
    "      )\n",
    "    conv_layer = tf.layers.max_pooling2d(\n",
    "        conv_layer,\n",
    "        pool_ksize,\n",
    "        pool_strides,\n",
    "        padding='valid',\n",
    "        data_format='channels_last',\n",
    "        name=None\n",
    "      )\n",
    "    return conv_layer\n",
    "\n",
    "\n",
    "\"\"\"\n",
    "DON'T MODIFY ANYTHING IN THIS CELL THAT IS BELOW THIS LINE\n",
    "\"\"\"\n",
    "tests.test_con_pool(conv2d_maxpool)"
   ]
  },
  {
   "cell_type": "markdown",
   "metadata": {
    "colab_type": "text",
    "id": "yJVG8fihMzBt"
   },
   "source": [
    "### Flatten Layer\n",
    "Implement the `flatten` function to change the dimension of `x_tensor` from a 4-D tensor to a 2-D tensor.  The output should be the shape (*Batch Size*, *Flattened Image Size*).  you can use classes from the [TensorFlow Layers](https://www.tensorflow.org/api_docs/python/tf/layers)"
   ]
  },
  {
   "cell_type": "code",
   "execution_count": 10,
   "metadata": {
    "colab": {},
    "colab_type": "code",
    "id": "zpLvd4DvMzBt"
   },
   "outputs": [
    {
     "name": "stdout",
     "output_type": "stream",
     "text": [
      "Tests Passed\n"
     ]
    }
   ],
   "source": [
    "def flatten(x_tensor):\n",
    "    \"\"\"\n",
    "    Flatten x_tensor to (Batch Size, Flattened Image Size)\n",
    "    : x_tensor: A tensor of size (Batch Size, ...), where ... are the image dimensions.\n",
    "    : return: A tensor of size (Batch Size, Flattened Image Size).\n",
    "    \"\"\"\n",
    "    # TODO: Implement Function\n",
    "    # HINT: tf.layers.flatten\n",
    "    \n",
    "    return tf.layers.flatten(x_tensor)\n",
    "\n",
    "\n",
    "\"\"\"\n",
    "DON'T MODIFY ANYTHING IN THIS CELL THAT IS BELOW THIS LINE\n",
    "\"\"\"\n",
    "tests.test_flatten(flatten)"
   ]
  },
  {
   "cell_type": "markdown",
   "metadata": {
    "colab_type": "text",
    "id": "YcIRMn47MzBw"
   },
   "source": [
    "### Fully-Connected Layer\n",
    "Implement the `fully_conn` function to apply a fully connected layer to `x_tensor` with the shape (*Batch Size*, *num_outputs*). Shortcut option: you can use classes from the [TensorFlow Layers](https://www.tensorflow.org/api_docs/python/tf/layers)"
   ]
  },
  {
   "cell_type": "code",
   "execution_count": 11,
   "metadata": {
    "colab": {},
    "colab_type": "code",
    "id": "HczdUyLOMzBw"
   },
   "outputs": [
    {
     "name": "stdout",
     "output_type": "stream",
     "text": [
      "Tests Passed\n"
     ]
    }
   ],
   "source": [
    "def fully_conn(x_tensor, num_outputs):\n",
    "    \"\"\"\n",
    "    Apply a fully connected layer to x_tensor using weight and bias\n",
    "    : x_tensor: A 2-D tensor where the first dimension is batch size.\n",
    "    : num_outputs: The number of output that the new tensor should be.\n",
    "    : return: A 2-D tensor where the second dimension is num_outputs.\n",
    "    \"\"\"\n",
    "    # TODO: Implement Function\n",
    "    # HINT: tf.layers.dense, remember to use non-linear activation function\n",
    "    fc = tf.layers.dense(\n",
    "        x_tensor,\n",
    "        num_outputs,\n",
    "        activation=tf.nn.relu,\n",
    "        use_bias=True,\n",
    "        kernel_initializer=None,\n",
    "        bias_initializer=tf.zeros_initializer(),\n",
    "        kernel_regularizer=None,\n",
    "        bias_regularizer=None,\n",
    "        activity_regularizer=None,\n",
    "        kernel_constraint=None,\n",
    "        bias_constraint=None,\n",
    "        trainable=True,\n",
    "        name=None,\n",
    "        reuse=None\n",
    "    )\n",
    "    return fc\n",
    "\n",
    "\n",
    "\"\"\"\n",
    "DON'T MODIFY ANYTHING IN THIS CELL THAT IS BELOW THIS LINE\n",
    "\"\"\"\n",
    "tests.test_fully_conn(fully_conn)"
   ]
  },
  {
   "cell_type": "markdown",
   "metadata": {
    "colab_type": "text",
    "id": "1NH9Avw7MzBy"
   },
   "source": [
    "### Output Layer\n",
    "Implement the `output` function to apply a fully connected layer to `x_tensor` with the shape (*Batch Size*, *num_outputs*). Shortcut option: you can use classes from the [TensorFlow Layers](https://www.tensorflow.org/api_docs/python/tf/layers)\n",
    "\n",
    "#### **Note:** Activation, softmax, or cross entropy should **not** be applied to this.\n",
    "#### 此 output function 只是要將 layer 的結果 output 出來，不需要加上任何 activation function"
   ]
  },
  {
   "cell_type": "code",
   "execution_count": 12,
   "metadata": {
    "colab": {},
    "colab_type": "code",
    "id": "f0WumeyPMzBz"
   },
   "outputs": [
    {
     "name": "stdout",
     "output_type": "stream",
     "text": [
      "Tests Passed\n"
     ]
    }
   ],
   "source": [
    "def output(x_tensor, num_outputs):\n",
    "    \"\"\"\n",
    "    Apply a output layer to x_tensor using weight and bias\n",
    "    : x_tensor: A 2-D tensor where the first dimension is batch size.\n",
    "    : num_outputs: The number of output that the new tensor should be.\n",
    "    : return: A 2-D tensor where the second dimension is num_outputs.\n",
    "    \"\"\"\n",
    "    # TODO: Implement Function\n",
    "    # HINT: use tf.layers.dense and check how to use linear activation in tensorflow\n",
    "    fc = tf.layers.dense(\n",
    "        x_tensor,\n",
    "        num_outputs,\n",
    "        activation=None,\n",
    "        use_bias=True,\n",
    "        kernel_initializer=None,\n",
    "        bias_initializer=tf.zeros_initializer(),\n",
    "        kernel_regularizer=None,\n",
    "        bias_regularizer=None,\n",
    "        activity_regularizer=None,\n",
    "        kernel_constraint=None,\n",
    "        bias_constraint=None,\n",
    "        trainable=True,\n",
    "        name=None,\n",
    "        reuse=None\n",
    "    )\n",
    "    return fc\n",
    "\n",
    "\n",
    "\"\"\"\n",
    "DON'T MODIFY ANYTHING IN THIS CELL THAT IS BELOW THIS LINE\n",
    "\"\"\"\n",
    "tests.test_output(output)"
   ]
  },
  {
   "cell_type": "markdown",
   "metadata": {
    "colab_type": "text",
    "id": "GS55NoM2MzB1"
   },
   "source": [
    "### Create Convolutional Model\n",
    "Implement the function `conv_net` to create a convolutional neural network model. The function takes in a batch of images, `x`, and outputs logits.  Use the layers you created above to create this model:\n",
    "\n",
    "* Apply 1, 2, or 3 Convolution and Max Pool layers\n",
    "* Apply a Flatten Layer\n",
    "* Apply 1, 2, or 3 Fully Connected Layers\n",
    "* Apply an Output Layer\n",
    "* Return the output\n",
    "* Apply [TensorFlow's Dropout](https://www.tensorflow.org/api_docs/python/tf/nn/dropout) to one or more layers in the model using `keep_prob`. "
   ]
  },
  {
   "cell_type": "code",
   "execution_count": 13,
   "metadata": {
    "colab": {},
    "colab_type": "code",
    "id": "t0G3X3bQMzB5"
   },
   "outputs": [
    {
     "name": "stdout",
     "output_type": "stream",
     "text": [
      "WARNING:tensorflow:From <ipython-input-13-a84d260f17e2>:84: softmax_cross_entropy_with_logits (from tensorflow.python.ops.nn_ops) is deprecated and will be removed in a future version.\n",
      "Instructions for updating:\n",
      "\n",
      "Future major versions of TensorFlow will allow gradients to flow\n",
      "into the labels input on backprop by default.\n",
      "\n",
      "See @{tf.nn.softmax_cross_entropy_with_logits_v2}.\n",
      "\n",
      "Neural Network Built!\n"
     ]
    }
   ],
   "source": [
    "def conv_net(x, keep_prob):\n",
    "    \"\"\"\n",
    "    Create a convolutional neural network model\n",
    "    : x: Placeholder tensor that holds image data.\n",
    "    : keep_prob: Placeholder tensor that hold dropout keep probability.\n",
    "    : return: Tensor that represents logits\n",
    "    \"\"\"\n",
    "    # 如同先前提到的 kernel (filter) size、strides 等等都是可以調整的參數，請自由調整看看是否對結果會有影響\n",
    "    # 每次 convolution 要使用的 filters 數量也是可以調整的\n",
    "    \n",
    "    conv_ksize = (3,3) # 請自行設定\n",
    "    conv_strides = (1,1)\n",
    "    pool_ksize = (2,2)\n",
    "    pool_strides = (2,2)\n",
    "    \n",
    "    \n",
    "    # TODO: Apply 1, 2, or 3 Convolution and Max Pool layers\n",
    "    # Function Definition from Above:\n",
    "    #    conv2d_maxpool(x_tensor, conv_num_outputs, conv_ksize, conv_strides, pool_ksize, pool_strides)\n",
    "    # 請自行設定 CNN 的架構，要幾層 convolution + pooling? filters 的數量要多少等等\n",
    "    conv1 = conv2d_maxpool(x, 64, conv_ksize, conv_strides, pool_ksize, pool_strides)\n",
    "    conv2 = conv2d_maxpool(conv1, 128, conv_ksize, conv_strides, pool_ksize, pool_strides)\n",
    "    conv3 = conv2d_maxpool(conv2, 256, conv_ksize, conv_strides, pool_ksize, pool_strides)\n",
    "\n",
    "    \n",
    "    # TODO: Apply a Flatten Layer\n",
    "    # Function Definition from Above:\n",
    "    #   flatten(x_tensor)\n",
    "    fc = flatten(conv3)\n",
    "    \n",
    "    \n",
    "    \n",
    "    # TODO: Apply 1, 2, or 3 Fully Connected Layers\n",
    "    #    Play around with different number of outputs\n",
    "    # Function Definition from Above:\n",
    "    #   fully_conn(x_tensor, num_outputs)\n",
    "    # 加上一些 fully connected layer，也請試著使用 tf.nn.dropout\n",
    "    fc1 = fully_conn(fc, 1024)\n",
    "    fc1d = tf.nn.dropout(fc1, keep_prob=keep_prob)\n",
    "    fc2 = fully_conn(fc1d, 256)\n",
    "    fc2d = tf.nn.dropout(fc2, keep_prob=keep_prob)\n",
    "    fc3 = fully_conn(fc2d, 128)\n",
    "    fc3d = tf.nn.dropout(fc3, keep_prob=keep_prob)\n",
    "  \n",
    "    \n",
    "    # TODO: Apply an Output Layer\n",
    "    #    Set this to the number of classes\n",
    "    # Function Definition from Above:\n",
    "    #   output(x_tensor, num_outputs)\n",
    "    # 將 fully connected 的 output 數量變成我們希望預測的十個 class\n",
    "    \n",
    "\n",
    "    \n",
    "    # TODO: return output\n",
    "    return output(fc3d, 10)\n",
    "\n",
    "\"\"\"\n",
    "DON'T MODIFY ANYTHING IN THIS CELL THAT IS BELOW THIS LINE\n",
    "\"\"\"\n",
    "\n",
    "\n",
    "##############################\n",
    "## Build the Neural Network ##\n",
    "##############################\n",
    "\n",
    "#底下的 code 會把整個 network 的 graph 建置起來，之後再透過 session.run 把我們的資料放進模型中訓練\n",
    "\n",
    "# Remove previous weights, bias, inputs, etc..\n",
    "tf.reset_default_graph()\n",
    "\n",
    "# Inputs\n",
    "x = neural_net_image_input((32, 32, 3))\n",
    "y = neural_net_label_input(10)\n",
    "keep_prob = neural_net_keep_prob_input()\n",
    "\n",
    "# Model 的 outpur (注意！這時候還沒有經過 softmax function，這些 output 的值通常稱為 logits)\n",
    "logits = conv_net(x, keep_prob)\n",
    "\n",
    "# Name logits Tensor, so that is can be loaded from disk after training\n",
    "logits = tf.identity(logits, name='logits')\n",
    "\n",
    "# Loss and Optimizer\n",
    "# 此時透過 softmax_cross_entropy_with_logits 將 model output 的值經過 softmax，再與我們的 label 計算 cross-entropy\n",
    "cost = tf.reduce_mean(tf.nn.softmax_cross_entropy_with_logits(logits=logits, labels=y))\n",
    "optimizer = tf.train.AdamOptimizer().minimize(cost)\n",
    "\n",
    "# Accuracy\n",
    "correct_pred = tf.equal(tf.argmax(logits, 1), tf.argmax(y, 1))\n",
    "accuracy = tf.reduce_mean(tf.cast(correct_pred, tf.float32), name='accuracy')\n",
    "\n",
    "# unit test the function of conv_net\n",
    "tests.test_conv_net(conv_net)"
   ]
  },
  {
   "cell_type": "markdown",
   "metadata": {
    "colab_type": "text",
    "id": "dcxrxvG5MzB9"
   },
   "source": [
    "## Train the Neural Network\n",
    "### Single Optimization\n",
    "Implement the function `train_neural_network` to do a single optimization.  The optimization should use `optimizer` to optimize in `session` with a `feed_dict` of the following:\n",
    "* `x` for image input\n",
    "* `y` for labels\n",
    "* `keep_prob` for keep probability for dropout\n",
    "\n",
    "This function will be called for each batch, so `tf.global_variables_initializer()` has already been called.\n",
    "\n",
    "Note: Nothing needs to be returned. This function is only optimizing the neural network."
   ]
  },
  {
   "cell_type": "code",
   "execution_count": 14,
   "metadata": {
    "colab": {},
    "colab_type": "code",
    "id": "m-0j7czeMzB-"
   },
   "outputs": [
    {
     "name": "stdout",
     "output_type": "stream",
     "text": [
      "Tests Passed\n"
     ]
    }
   ],
   "source": [
    "def train_neural_network(session, optimizer, keep_probability, feature_batch, label_batch):\n",
    "    \"\"\"\n",
    "    Optimize the session on a batch of images and labels\n",
    "    : session: Current TensorFlow session\n",
    "    : optimizer: TensorFlow optimizer function\n",
    "    : keep_probability: keep probability\n",
    "    : feature_batch: Batch of Numpy image data\n",
    "    : label_batch: Batch of Numpy label data\n",
    "    \"\"\"\n",
    "    # TODO: Implement Function\n",
    "    # 請使用 session.run, 運行我們定義好的 optimizer，並將訓練用的 features_batch, label_batch, keep_prob 用 feed_dict 的形式放進去\n",
    "    session.run(optimizer, feed_dict={\n",
    "    x: feature_batch,\n",
    "    y: label_batch,\n",
    "    keep_prob: keep_probability})\n",
    "\n",
    "\"\"\"\n",
    "DON'T MODIFY ANYTHING IN THIS CELL THAT IS BELOW THIS LINE\n",
    "\"\"\"\n",
    "tests.test_train_nn(train_neural_network)"
   ]
  },
  {
   "cell_type": "markdown",
   "metadata": {
    "colab_type": "text",
    "id": "ITTvRAHTMzCB"
   },
   "source": [
    "### Show Stats\n",
    "the function `print_stats` will print loss and validation accuracy.  Use the global variables `valid_features` and `valid_labels` to calculate validation accuracy.  Use a keep probability of `1.0` to calculate the loss and validation accuracy."
   ]
  },
  {
   "cell_type": "code",
   "execution_count": 15,
   "metadata": {
    "colab": {},
    "colab_type": "code",
    "id": "RksEgY1JMzCC"
   },
   "outputs": [],
   "source": [
    "def print_stats(session, feature_batch, label_batch, cost, accuracy):\n",
    "    \"\"\"\n",
    "    Print information about loss and validation accuracy\n",
    "    : session: Current TensorFlow session\n",
    "    : feature_batch: Batch of Numpy image data\n",
    "    : label_batch: Batch of Numpy label data\n",
    "    : cost: TensorFlow cost function\n",
    "    : accuracy: TensorFlow accuracy function\n",
    "    \"\"\"\n",
    "\n",
    "    loss = session.run(cost, feed_dict = {\n",
    "            x: feature_batch,\n",
    "            y: label_batch,\n",
    "            keep_prob: 1.\n",
    "        })\n",
    "    \n",
    "    valid_acc = session.run(accuracy, feed_dict = {\n",
    "            x: valid_features,\n",
    "            y: valid_labels,\n",
    "            keep_prob: 1.\n",
    "        })\n",
    "    \n",
    "    print('Epoch {:>2}'\n",
    "          'Loss: {:>10.4f} Validation Accuracy: {:.6f}'.format(\n",
    "        epoch + 1,\n",
    "        loss,\n",
    "        valid_acc))"
   ]
  },
  {
   "cell_type": "markdown",
   "metadata": {
    "colab_type": "text",
    "id": "UhiSqCS3MzCF"
   },
   "source": [
    "### Hyperparameters\n",
    "Tune the following parameters:\n",
    "* Set `epochs` to the number of iterations until the network stops learning or start overfitting\n",
    "* Set `batch_size` to the highest number that your machine has memory for.  Most people set them to common sizes of memory:\n",
    " * 64\n",
    " * 128\n",
    " * 256\n",
    " * ...\n",
    "* Set `keep_probability` to the probability of keeping a node using dropout"
   ]
  },
  {
   "cell_type": "code",
   "execution_count": 16,
   "metadata": {
    "colab": {},
    "colab_type": "code",
    "id": "F2GLs-JZMzCF"
   },
   "outputs": [],
   "source": [
    "# TODO: Tune Parameters\n",
    "epochs = 50\n",
    "batch_size = 128\n",
    "keep_probability = 0.5"
   ]
  },
  {
   "cell_type": "markdown",
   "metadata": {
    "colab_type": "text",
    "id": "i9TbrVe5MzCH"
   },
   "source": [
    "### Train on a Single CIFAR-10 Batch\n",
    "Instead of training the neural network on all the CIFAR-10 batches of data, let's use a single batch. This should save time while you iterate on the model to get a better accuracy.  Once the final validation accuracy is 50% or greater, run the model on all the data in the next section."
   ]
  },
  {
   "cell_type": "code",
   "execution_count": 17,
   "metadata": {
    "colab": {},
    "colab_type": "code",
    "id": "8zSxmZlIMzCJ"
   },
   "outputs": [
    {
     "name": "stdout",
     "output_type": "stream",
     "text": [
      "Checking the Training on a Single Batch...\n",
      "Epoch  1, CIFAR-10 Batch 1:  Epoch  1Loss:     2.2458 Validation Accuracy: 0.161400\n",
      "Epoch  2, CIFAR-10 Batch 1:  Epoch  2Loss:     2.0719 Validation Accuracy: 0.284000\n",
      "Epoch  3, CIFAR-10 Batch 1:  Epoch  3Loss:     1.8707 Validation Accuracy: 0.353400\n",
      "Epoch  4, CIFAR-10 Batch 1:  Epoch  4Loss:     1.5702 Validation Accuracy: 0.409400\n",
      "Epoch  5, CIFAR-10 Batch 1:  Epoch  5Loss:     1.3203 Validation Accuracy: 0.481400\n",
      "Epoch  6, CIFAR-10 Batch 1:  Epoch  6Loss:     1.1012 Validation Accuracy: 0.513600\n",
      "Epoch  7, CIFAR-10 Batch 1:  Epoch  7Loss:     0.9941 Validation Accuracy: 0.533000\n",
      "Epoch  8, CIFAR-10 Batch 1:  Epoch  8Loss:     0.8204 Validation Accuracy: 0.553200\n",
      "Epoch  9, CIFAR-10 Batch 1:  Epoch  9Loss:     0.7876 Validation Accuracy: 0.548600\n",
      "Epoch 10, CIFAR-10 Batch 1:  Epoch 10Loss:     0.6559 Validation Accuracy: 0.564600\n",
      "Epoch 11, CIFAR-10 Batch 1:  Epoch 11Loss:     0.5611 Validation Accuracy: 0.581600\n",
      "Epoch 12, CIFAR-10 Batch 1:  Epoch 12Loss:     0.5400 Validation Accuracy: 0.563200\n",
      "Epoch 13, CIFAR-10 Batch 1:  Epoch 13Loss:     0.3851 Validation Accuracy: 0.576800\n",
      "Epoch 14, CIFAR-10 Batch 1:  Epoch 14Loss:     0.4507 Validation Accuracy: 0.542200\n",
      "Epoch 15, CIFAR-10 Batch 1:  Epoch 15Loss:     0.2771 Validation Accuracy: 0.580400\n",
      "Epoch 16, CIFAR-10 Batch 1:  Epoch 16Loss:     0.2834 Validation Accuracy: 0.591600\n",
      "Epoch 17, CIFAR-10 Batch 1:  Epoch 17Loss:     0.1877 Validation Accuracy: 0.585800\n",
      "Epoch 18, CIFAR-10 Batch 1:  Epoch 18Loss:     0.1248 Validation Accuracy: 0.595600\n",
      "Epoch 19, CIFAR-10 Batch 1:  Epoch 19Loss:     0.1252 Validation Accuracy: 0.593200\n",
      "Epoch 20, CIFAR-10 Batch 1:  Epoch 20Loss:     0.1217 Validation Accuracy: 0.588000\n",
      "Epoch 21, CIFAR-10 Batch 1:  Epoch 21Loss:     0.0920 Validation Accuracy: 0.591400\n",
      "Epoch 22, CIFAR-10 Batch 1:  Epoch 22Loss:     0.0808 Validation Accuracy: 0.551600\n",
      "Epoch 23, CIFAR-10 Batch 1:  Epoch 23Loss:     0.0729 Validation Accuracy: 0.556200\n",
      "Epoch 24, CIFAR-10 Batch 1:  Epoch 24Loss:     0.0820 Validation Accuracy: 0.596600\n",
      "Epoch 25, CIFAR-10 Batch 1:  Epoch 25Loss:     0.0665 Validation Accuracy: 0.596000\n",
      "Epoch 26, CIFAR-10 Batch 1:  Epoch 26Loss:     0.0300 Validation Accuracy: 0.597800\n",
      "Epoch 27, CIFAR-10 Batch 1:  Epoch 27Loss:     0.0252 Validation Accuracy: 0.611800\n",
      "Epoch 28, CIFAR-10 Batch 1:  Epoch 28Loss:     0.0310 Validation Accuracy: 0.585600\n",
      "Epoch 29, CIFAR-10 Batch 1:  Epoch 29Loss:     0.0598 Validation Accuracy: 0.599000\n",
      "Epoch 30, CIFAR-10 Batch 1:  Epoch 30Loss:     0.0129 Validation Accuracy: 0.601600\n",
      "Epoch 31, CIFAR-10 Batch 1:  Epoch 31Loss:     0.0115 Validation Accuracy: 0.603600\n",
      "Epoch 32, CIFAR-10 Batch 1:  Epoch 32Loss:     0.0195 Validation Accuracy: 0.599800\n",
      "Epoch 33, CIFAR-10 Batch 1:  Epoch 33Loss:     0.0111 Validation Accuracy: 0.589600\n",
      "Epoch 34, CIFAR-10 Batch 1:  Epoch 34Loss:     0.0095 Validation Accuracy: 0.583400\n",
      "Epoch 35, CIFAR-10 Batch 1:  Epoch 35Loss:     0.0137 Validation Accuracy: 0.588800\n",
      "Epoch 36, CIFAR-10 Batch 1:  Epoch 36Loss:     0.0090 Validation Accuracy: 0.584800\n",
      "Epoch 37, CIFAR-10 Batch 1:  Epoch 37Loss:     0.0066 Validation Accuracy: 0.594200\n",
      "Epoch 38, CIFAR-10 Batch 1:  Epoch 38Loss:     0.0052 Validation Accuracy: 0.599000\n",
      "Epoch 39, CIFAR-10 Batch 1:  Epoch 39Loss:     0.0026 Validation Accuracy: 0.601600\n",
      "Epoch 40, CIFAR-10 Batch 1:  Epoch 40Loss:     0.0093 Validation Accuracy: 0.594800\n",
      "Epoch 41, CIFAR-10 Batch 1:  Epoch 41Loss:     0.0020 Validation Accuracy: 0.597600\n",
      "Epoch 42, CIFAR-10 Batch 1:  Epoch 42Loss:     0.0026 Validation Accuracy: 0.586800\n",
      "Epoch 43, CIFAR-10 Batch 1:  Epoch 43Loss:     0.0022 Validation Accuracy: 0.598600\n",
      "Epoch 44, CIFAR-10 Batch 1:  Epoch 44Loss:     0.0094 Validation Accuracy: 0.591000\n",
      "Epoch 45, CIFAR-10 Batch 1:  Epoch 45Loss:     0.0007 Validation Accuracy: 0.604000\n",
      "Epoch 46, CIFAR-10 Batch 1:  Epoch 46Loss:     0.0004 Validation Accuracy: 0.601000\n",
      "Epoch 47, CIFAR-10 Batch 1:  Epoch 47Loss:     0.0056 Validation Accuracy: 0.590800\n",
      "Epoch 48, CIFAR-10 Batch 1:  Epoch 48Loss:     0.0023 Validation Accuracy: 0.606000\n",
      "Epoch 49, CIFAR-10 Batch 1:  Epoch 49Loss:     0.0014 Validation Accuracy: 0.605200\n",
      "Epoch 50, CIFAR-10 Batch 1:  Epoch 50Loss:     0.0027 Validation Accuracy: 0.616000\n"
     ]
    }
   ],
   "source": [
    "\"\"\"\n",
    "DON'T MODIFY ANYTHING IN THIS CELL\n",
    "\"\"\"\n",
    "print('Checking the Training on a Single Batch...')\n",
    "with tf.Session() as sess:\n",
    "    # Initializing the variables\n",
    "    sess.run(tf.global_variables_initializer())\n",
    "    \n",
    "    # Training cycle\n",
    "    for epoch in range(epochs):\n",
    "        batch_i = 1\n",
    "        for batch_features, batch_labels in helper.load_preprocess_training_batch(batch_i, batch_size):\n",
    "            train_neural_network(sess, optimizer, keep_probability, batch_features, batch_labels)\n",
    "        print('Epoch {:>2}, CIFAR-10 Batch {}:  '.format(epoch + 1, batch_i), end='')\n",
    "        print_stats(sess, batch_features, batch_labels, cost, accuracy)"
   ]
  },
  {
   "cell_type": "markdown",
   "metadata": {
    "colab_type": "text",
    "id": "HDXLExmaMzCM"
   },
   "source": [
    "### Fully Train the Model\n",
    "Now that you got a good accuracy with a single CIFAR-10 batch, try it with all five batches."
   ]
  },
  {
   "cell_type": "code",
   "execution_count": 18,
   "metadata": {
    "colab": {},
    "colab_type": "code",
    "id": "SiSqFM-3MzCN"
   },
   "outputs": [
    {
     "name": "stdout",
     "output_type": "stream",
     "text": [
      "Training...\n",
      "Epoch  1, CIFAR-10 Batch 1:  Epoch  1Loss:     2.1165 Validation Accuracy: 0.222000\n",
      "Epoch  1, CIFAR-10 Batch 2:  Epoch  1Loss:     1.8873 Validation Accuracy: 0.270000\n",
      "Epoch  1, CIFAR-10 Batch 3:  Epoch  1Loss:     1.4092 Validation Accuracy: 0.353400\n",
      "Epoch  1, CIFAR-10 Batch 4:  Epoch  1Loss:     1.5991 Validation Accuracy: 0.423600\n",
      "Epoch  1, CIFAR-10 Batch 5:  Epoch  1Loss:     1.4641 Validation Accuracy: 0.427600\n",
      "Epoch  2, CIFAR-10 Batch 1:  Epoch  2Loss:     1.3783 Validation Accuracy: 0.504800\n",
      "Epoch  2, CIFAR-10 Batch 2:  Epoch  2Loss:     1.3674 Validation Accuracy: 0.470200\n",
      "Epoch  2, CIFAR-10 Batch 3:  Epoch  2Loss:     1.0745 Validation Accuracy: 0.532400\n",
      "Epoch  2, CIFAR-10 Batch 4:  Epoch  2Loss:     1.0868 Validation Accuracy: 0.548400\n",
      "Epoch  2, CIFAR-10 Batch 5:  Epoch  2Loss:     1.1269 Validation Accuracy: 0.583600\n",
      "Epoch  3, CIFAR-10 Batch 1:  Epoch  3Loss:     1.0209 Validation Accuracy: 0.583000\n",
      "Epoch  3, CIFAR-10 Batch 2:  Epoch  3Loss:     1.1148 Validation Accuracy: 0.566000\n",
      "Epoch  3, CIFAR-10 Batch 3:  Epoch  3Loss:     0.8517 Validation Accuracy: 0.600000\n",
      "Epoch  3, CIFAR-10 Batch 4:  Epoch  3Loss:     0.8473 Validation Accuracy: 0.619000\n",
      "Epoch  3, CIFAR-10 Batch 5:  Epoch  3Loss:     0.8584 Validation Accuracy: 0.625200\n",
      "Epoch  4, CIFAR-10 Batch 1:  Epoch  4Loss:     0.8512 Validation Accuracy: 0.628000\n",
      "Epoch  4, CIFAR-10 Batch 2:  Epoch  4Loss:     0.8637 Validation Accuracy: 0.636600\n",
      "Epoch  4, CIFAR-10 Batch 3:  Epoch  4Loss:     0.7043 Validation Accuracy: 0.654800\n",
      "Epoch  4, CIFAR-10 Batch 4:  Epoch  4Loss:     0.6151 Validation Accuracy: 0.648800\n",
      "Epoch  4, CIFAR-10 Batch 5:  Epoch  4Loss:     0.7281 Validation Accuracy: 0.651800\n",
      "Epoch  5, CIFAR-10 Batch 1:  Epoch  5Loss:     0.7601 Validation Accuracy: 0.654600\n",
      "Epoch  5, CIFAR-10 Batch 2:  Epoch  5Loss:     0.6892 Validation Accuracy: 0.674200\n",
      "Epoch  5, CIFAR-10 Batch 3:  Epoch  5Loss:     0.5264 Validation Accuracy: 0.668600\n",
      "Epoch  5, CIFAR-10 Batch 4:  Epoch  5Loss:     0.5134 Validation Accuracy: 0.673600\n",
      "Epoch  5, CIFAR-10 Batch 5:  Epoch  5Loss:     0.6070 Validation Accuracy: 0.678600\n",
      "Epoch  6, CIFAR-10 Batch 1:  Epoch  6Loss:     0.5372 Validation Accuracy: 0.662200\n",
      "Epoch  6, CIFAR-10 Batch 2:  Epoch  6Loss:     0.5858 Validation Accuracy: 0.684600\n",
      "Epoch  6, CIFAR-10 Batch 3:  Epoch  6Loss:     0.4295 Validation Accuracy: 0.673800\n",
      "Epoch  6, CIFAR-10 Batch 4:  Epoch  6Loss:     0.4294 Validation Accuracy: 0.684800\n",
      "Epoch  6, CIFAR-10 Batch 5:  Epoch  6Loss:     0.4464 Validation Accuracy: 0.682800\n",
      "Epoch  7, CIFAR-10 Batch 1:  Epoch  7Loss:     0.4119 Validation Accuracy: 0.694000\n",
      "Epoch  7, CIFAR-10 Batch 2:  Epoch  7Loss:     0.4651 Validation Accuracy: 0.692800\n",
      "Epoch  7, CIFAR-10 Batch 3:  Epoch  7Loss:     0.3694 Validation Accuracy: 0.698800\n",
      "Epoch  7, CIFAR-10 Batch 4:  Epoch  7Loss:     0.3118 Validation Accuracy: 0.678000\n",
      "Epoch  7, CIFAR-10 Batch 5:  Epoch  7Loss:     0.3514 Validation Accuracy: 0.701600\n",
      "Epoch  8, CIFAR-10 Batch 1:  Epoch  8Loss:     0.3699 Validation Accuracy: 0.687800\n",
      "Epoch  8, CIFAR-10 Batch 2:  Epoch  8Loss:     0.3794 Validation Accuracy: 0.697800\n",
      "Epoch  8, CIFAR-10 Batch 3:  Epoch  8Loss:     0.2446 Validation Accuracy: 0.707400\n",
      "Epoch  8, CIFAR-10 Batch 4:  Epoch  8Loss:     0.2606 Validation Accuracy: 0.692600\n",
      "Epoch  8, CIFAR-10 Batch 5:  Epoch  8Loss:     0.2928 Validation Accuracy: 0.705000\n",
      "Epoch  9, CIFAR-10 Batch 1:  Epoch  9Loss:     0.2650 Validation Accuracy: 0.701800\n",
      "Epoch  9, CIFAR-10 Batch 2:  Epoch  9Loss:     0.2964 Validation Accuracy: 0.706000\n",
      "Epoch  9, CIFAR-10 Batch 3:  Epoch  9Loss:     0.2684 Validation Accuracy: 0.686800\n",
      "Epoch  9, CIFAR-10 Batch 4:  Epoch  9Loss:     0.2036 Validation Accuracy: 0.698800\n",
      "Epoch  9, CIFAR-10 Batch 5:  Epoch  9Loss:     0.1819 Validation Accuracy: 0.707200\n",
      "Epoch 10, CIFAR-10 Batch 1:  Epoch 10Loss:     0.2284 Validation Accuracy: 0.696800\n",
      "Epoch 10, CIFAR-10 Batch 2:  Epoch 10Loss:     0.2632 Validation Accuracy: 0.695800\n",
      "Epoch 10, CIFAR-10 Batch 3:  Epoch 10Loss:     0.2537 Validation Accuracy: 0.700400\n",
      "Epoch 10, CIFAR-10 Batch 4:  Epoch 10Loss:     0.1746 Validation Accuracy: 0.705000\n",
      "Epoch 10, CIFAR-10 Batch 5:  Epoch 10Loss:     0.2388 Validation Accuracy: 0.709800\n",
      "Epoch 11, CIFAR-10 Batch 1:  Epoch 11Loss:     0.1922 Validation Accuracy: 0.718400\n",
      "Epoch 11, CIFAR-10 Batch 2:  Epoch 11Loss:     0.2109 Validation Accuracy: 0.712400\n",
      "Epoch 11, CIFAR-10 Batch 3:  Epoch 11Loss:     0.1955 Validation Accuracy: 0.715800\n",
      "Epoch 11, CIFAR-10 Batch 4:  Epoch 11Loss:     0.1894 Validation Accuracy: 0.716000\n",
      "Epoch 11, CIFAR-10 Batch 5:  Epoch 11Loss:     0.1684 Validation Accuracy: 0.708800\n",
      "Epoch 12, CIFAR-10 Batch 1:  Epoch 12Loss:     0.1746 Validation Accuracy: 0.710000\n",
      "Epoch 12, CIFAR-10 Batch 2:  Epoch 12Loss:     0.1601 Validation Accuracy: 0.721400\n",
      "Epoch 12, CIFAR-10 Batch 3:  Epoch 12Loss:     0.2168 Validation Accuracy: 0.693200\n",
      "Epoch 12, CIFAR-10 Batch 4:  Epoch 12Loss:     0.1702 Validation Accuracy: 0.711200\n",
      "Epoch 12, CIFAR-10 Batch 5:  Epoch 12Loss:     0.1367 Validation Accuracy: 0.716400\n",
      "Epoch 13, CIFAR-10 Batch 1:  Epoch 13Loss:     0.1700 Validation Accuracy: 0.713000\n",
      "Epoch 13, CIFAR-10 Batch 2:  Epoch 13Loss:     0.1471 Validation Accuracy: 0.718200\n",
      "Epoch 13, CIFAR-10 Batch 3:  Epoch 13Loss:     0.1076 Validation Accuracy: 0.717000\n",
      "Epoch 13, CIFAR-10 Batch 4:  Epoch 13Loss:     0.1327 Validation Accuracy: 0.707400\n",
      "Epoch 13, CIFAR-10 Batch 5:  Epoch 13Loss:     0.1033 Validation Accuracy: 0.705200\n",
      "Epoch 14, CIFAR-10 Batch 1:  Epoch 14Loss:     0.1331 Validation Accuracy: 0.704400\n",
      "Epoch 14, CIFAR-10 Batch 2:  Epoch 14Loss:     0.1080 Validation Accuracy: 0.709800\n",
      "Epoch 14, CIFAR-10 Batch 3:  Epoch 14Loss:     0.1184 Validation Accuracy: 0.716000\n",
      "Epoch 14, CIFAR-10 Batch 4:  Epoch 14Loss:     0.1163 Validation Accuracy: 0.710400\n",
      "Epoch 14, CIFAR-10 Batch 5:  Epoch 14Loss:     0.0919 Validation Accuracy: 0.719000\n",
      "Epoch 15, CIFAR-10 Batch 1:  Epoch 15Loss:     0.1340 Validation Accuracy: 0.702000\n",
      "Epoch 15, CIFAR-10 Batch 2:  Epoch 15Loss:     0.1295 Validation Accuracy: 0.721000\n",
      "Epoch 15, CIFAR-10 Batch 3:  Epoch 15Loss:     0.1299 Validation Accuracy: 0.723000\n",
      "Epoch 15, CIFAR-10 Batch 4:  Epoch 15Loss:     0.1438 Validation Accuracy: 0.709000\n",
      "Epoch 15, CIFAR-10 Batch 5:  Epoch 15Loss:     0.0562 Validation Accuracy: 0.718400\n",
      "Epoch 16, CIFAR-10 Batch 1:  Epoch 16Loss:     0.1511 Validation Accuracy: 0.692800\n",
      "Epoch 16, CIFAR-10 Batch 2:  Epoch 16Loss:     0.1136 Validation Accuracy: 0.702600\n",
      "Epoch 16, CIFAR-10 Batch 3:  Epoch 16Loss:     0.0611 Validation Accuracy: 0.708400\n",
      "Epoch 16, CIFAR-10 Batch 4:  Epoch 16Loss:     0.0713 Validation Accuracy: 0.711400\n",
      "Epoch 16, CIFAR-10 Batch 5:  Epoch 16Loss:     0.0632 Validation Accuracy: 0.710000\n",
      "Epoch 17, CIFAR-10 Batch 1:  Epoch 17Loss:     0.1121 Validation Accuracy: 0.701400\n",
      "Epoch 17, CIFAR-10 Batch 2:  Epoch 17Loss:     0.0904 Validation Accuracy: 0.723600\n",
      "Epoch 17, CIFAR-10 Batch 3:  Epoch 17Loss:     0.0509 Validation Accuracy: 0.727400\n",
      "Epoch 17, CIFAR-10 Batch 4:  Epoch 17Loss:     0.0975 Validation Accuracy: 0.710400\n",
      "Epoch 17, CIFAR-10 Batch 5:  Epoch 17Loss:     0.0437 Validation Accuracy: 0.715200\n",
      "Epoch 18, CIFAR-10 Batch 1:  Epoch 18Loss:     0.0918 Validation Accuracy: 0.706200\n",
      "Epoch 18, CIFAR-10 Batch 2:  Epoch 18Loss:     0.0667 Validation Accuracy: 0.718200\n",
      "Epoch 18, CIFAR-10 Batch 3:  Epoch 18Loss:     0.0473 Validation Accuracy: 0.709000\n",
      "Epoch 18, CIFAR-10 Batch 4:  Epoch 18Loss:     0.0426 Validation Accuracy: 0.730800\n",
      "Epoch 18, CIFAR-10 Batch 5:  Epoch 18Loss:     0.0285 Validation Accuracy: 0.727400\n",
      "Epoch 19, CIFAR-10 Batch 1:  Epoch 19Loss:     0.0968 Validation Accuracy: 0.699400\n",
      "Epoch 19, CIFAR-10 Batch 2:  Epoch 19Loss:     0.0539 Validation Accuracy: 0.704600\n",
      "Epoch 19, CIFAR-10 Batch 3:  Epoch 19Loss:     0.0517 Validation Accuracy: 0.720800\n",
      "Epoch 19, CIFAR-10 Batch 4:  Epoch 19Loss:     0.0775 Validation Accuracy: 0.712600\n",
      "Epoch 19, CIFAR-10 Batch 5:  Epoch 19Loss:     0.0380 Validation Accuracy: 0.718600\n",
      "Epoch 20, CIFAR-10 Batch 1:  Epoch 20Loss:     0.0540 Validation Accuracy: 0.707800\n",
      "Epoch 20, CIFAR-10 Batch 2:  Epoch 20Loss:     0.0419 Validation Accuracy: 0.722800\n",
      "Epoch 20, CIFAR-10 Batch 3:  Epoch 20Loss:     0.0911 Validation Accuracy: 0.693200\n",
      "Epoch 20, CIFAR-10 Batch 4:  Epoch 20Loss:     0.0603 Validation Accuracy: 0.723400\n",
      "Epoch 20, CIFAR-10 Batch 5:  Epoch 20Loss:     0.0294 Validation Accuracy: 0.722600\n",
      "Epoch 21, CIFAR-10 Batch 1:  Epoch 21Loss:     0.0414 Validation Accuracy: 0.701000\n",
      "Epoch 21, CIFAR-10 Batch 2:  Epoch 21Loss:     0.0337 Validation Accuracy: 0.721600\n",
      "Epoch 21, CIFAR-10 Batch 3:  Epoch 21Loss:     0.0225 Validation Accuracy: 0.716200\n",
      "Epoch 21, CIFAR-10 Batch 4:  Epoch 21Loss:     0.0458 Validation Accuracy: 0.718000\n",
      "Epoch 21, CIFAR-10 Batch 5:  Epoch 21Loss:     0.0409 Validation Accuracy: 0.719000\n",
      "Epoch 22, CIFAR-10 Batch 1:  Epoch 22Loss:     0.0445 Validation Accuracy: 0.710000\n",
      "Epoch 22, CIFAR-10 Batch 2:  Epoch 22Loss:     0.0534 Validation Accuracy: 0.726200\n",
      "Epoch 22, CIFAR-10 Batch 3:  Epoch 22Loss:     0.0226 Validation Accuracy: 0.714400\n",
      "Epoch 22, CIFAR-10 Batch 4:  Epoch 22Loss:     0.0389 Validation Accuracy: 0.717200\n",
      "Epoch 22, CIFAR-10 Batch 5:  Epoch 22Loss:     0.0202 Validation Accuracy: 0.727600\n",
      "Epoch 23, CIFAR-10 Batch 1:  Epoch 23Loss:     0.0285 Validation Accuracy: 0.717400\n",
      "Epoch 23, CIFAR-10 Batch 2:  Epoch 23Loss:     0.0357 Validation Accuracy: 0.716000\n",
      "Epoch 23, CIFAR-10 Batch 3:  Epoch 23Loss:     0.0200 Validation Accuracy: 0.708800\n",
      "Epoch 23, CIFAR-10 Batch 4:  Epoch 23Loss:     0.0372 Validation Accuracy: 0.713800\n",
      "Epoch 23, CIFAR-10 Batch 5:  Epoch 23Loss:     0.0113 Validation Accuracy: 0.714200\n",
      "Epoch 24, CIFAR-10 Batch 1:  Epoch 24Loss:     0.0479 Validation Accuracy: 0.717000\n",
      "Epoch 24, CIFAR-10 Batch 2:  Epoch 24Loss:     0.0438 Validation Accuracy: 0.711800\n",
      "Epoch 24, CIFAR-10 Batch 3:  Epoch 24Loss:     0.0107 Validation Accuracy: 0.713600\n",
      "Epoch 24, CIFAR-10 Batch 4:  Epoch 24Loss:     0.0318 Validation Accuracy: 0.715600\n",
      "Epoch 24, CIFAR-10 Batch 5:  Epoch 24Loss:     0.0125 Validation Accuracy: 0.719600\n",
      "Epoch 25, CIFAR-10 Batch 1:  Epoch 25Loss:     0.0324 Validation Accuracy: 0.705800\n",
      "Epoch 25, CIFAR-10 Batch 2:  Epoch 25Loss:     0.0169 Validation Accuracy: 0.713200\n",
      "Epoch 25, CIFAR-10 Batch 3:  Epoch 25Loss:     0.0720 Validation Accuracy: 0.726400\n",
      "Epoch 25, CIFAR-10 Batch 4:  Epoch 25Loss:     0.0473 Validation Accuracy: 0.718000\n",
      "Epoch 25, CIFAR-10 Batch 5:  Epoch 25Loss:     0.0250 Validation Accuracy: 0.728200\n",
      "Epoch 26, CIFAR-10 Batch 1:  Epoch 26Loss:     0.0283 Validation Accuracy: 0.714200\n",
      "Epoch 26, CIFAR-10 Batch 2:  Epoch 26Loss:     0.0159 Validation Accuracy: 0.712000\n",
      "Epoch 26, CIFAR-10 Batch 3:  Epoch 26Loss:     0.0064 Validation Accuracy: 0.722200\n",
      "Epoch 26, CIFAR-10 Batch 4:  Epoch 26Loss:     0.0411 Validation Accuracy: 0.715400\n",
      "Epoch 26, CIFAR-10 Batch 5:  Epoch 26Loss:     0.0045 Validation Accuracy: 0.727800\n",
      "Epoch 27, CIFAR-10 Batch 1:  Epoch 27Loss:     0.0531 Validation Accuracy: 0.721800\n",
      "Epoch 27, CIFAR-10 Batch 2:  Epoch 27Loss:     0.0124 Validation Accuracy: 0.726600\n",
      "Epoch 27, CIFAR-10 Batch 3:  Epoch 27Loss:     0.0114 Validation Accuracy: 0.715400\n",
      "Epoch 27, CIFAR-10 Batch 4:  Epoch 27Loss:     0.0122 Validation Accuracy: 0.726000\n",
      "Epoch 27, CIFAR-10 Batch 5:  Epoch 27Loss:     0.0065 Validation Accuracy: 0.716600\n",
      "Epoch 28, CIFAR-10 Batch 1:  Epoch 28Loss:     0.0162 Validation Accuracy: 0.718200\n",
      "Epoch 28, CIFAR-10 Batch 2:  Epoch 28Loss:     0.0128 Validation Accuracy: 0.719200\n",
      "Epoch 28, CIFAR-10 Batch 3:  Epoch 28Loss:     0.0125 Validation Accuracy: 0.719000\n",
      "Epoch 28, CIFAR-10 Batch 4:  Epoch 28Loss:     0.0257 Validation Accuracy: 0.721800\n",
      "Epoch 28, CIFAR-10 Batch 5:  Epoch 28Loss:     0.0086 Validation Accuracy: 0.720000\n",
      "Epoch 29, CIFAR-10 Batch 1:  Epoch 29Loss:     0.0064 Validation Accuracy: 0.719400\n",
      "Epoch 29, CIFAR-10 Batch 2:  Epoch 29Loss:     0.0178 Validation Accuracy: 0.705600\n",
      "Epoch 29, CIFAR-10 Batch 3:  Epoch 29Loss:     0.0056 Validation Accuracy: 0.713400\n",
      "Epoch 29, CIFAR-10 Batch 4:  Epoch 29Loss:     0.0256 Validation Accuracy: 0.714400\n",
      "Epoch 29, CIFAR-10 Batch 5:  Epoch 29Loss:     0.0023 Validation Accuracy: 0.720600\n",
      "Epoch 30, CIFAR-10 Batch 1:  Epoch 30Loss:     0.0074 Validation Accuracy: 0.718400\n",
      "Epoch 30, CIFAR-10 Batch 2:  Epoch 30Loss:     0.0043 Validation Accuracy: 0.706400\n",
      "Epoch 30, CIFAR-10 Batch 3:  Epoch 30Loss:     0.0027 Validation Accuracy: 0.719400\n",
      "Epoch 30, CIFAR-10 Batch 4:  Epoch 30Loss:     0.0071 Validation Accuracy: 0.707800\n",
      "Epoch 30, CIFAR-10 Batch 5:  Epoch 30Loss:     0.0019 Validation Accuracy: 0.721200\n",
      "Epoch 31, CIFAR-10 Batch 1:  Epoch 31Loss:     0.0039 Validation Accuracy: 0.719200\n",
      "Epoch 31, CIFAR-10 Batch 2:  Epoch 31Loss:     0.0070 Validation Accuracy: 0.709800\n",
      "Epoch 31, CIFAR-10 Batch 3:  Epoch 31Loss:     0.0104 Validation Accuracy: 0.707200\n",
      "Epoch 31, CIFAR-10 Batch 4:  Epoch 31Loss:     0.0057 Validation Accuracy: 0.710400\n",
      "Epoch 31, CIFAR-10 Batch 5:  Epoch 31Loss:     0.0171 Validation Accuracy: 0.718000\n",
      "Epoch 32, CIFAR-10 Batch 1:  Epoch 32Loss:     0.0075 Validation Accuracy: 0.722600\n",
      "Epoch 32, CIFAR-10 Batch 2:  Epoch 32Loss:     0.0069 Validation Accuracy: 0.716000\n",
      "Epoch 32, CIFAR-10 Batch 3:  Epoch 32Loss:     0.0230 Validation Accuracy: 0.697600\n",
      "Epoch 32, CIFAR-10 Batch 4:  Epoch 32Loss:     0.0081 Validation Accuracy: 0.714000\n",
      "Epoch 32, CIFAR-10 Batch 5:  Epoch 32Loss:     0.0007 Validation Accuracy: 0.733600\n",
      "Epoch 33, CIFAR-10 Batch 1:  Epoch 33Loss:     0.0066 Validation Accuracy: 0.723800\n",
      "Epoch 33, CIFAR-10 Batch 2:  Epoch 33Loss:     0.0022 Validation Accuracy: 0.709400\n",
      "Epoch 33, CIFAR-10 Batch 3:  Epoch 33Loss:     0.0061 Validation Accuracy: 0.711400\n",
      "Epoch 33, CIFAR-10 Batch 4:  Epoch 33Loss:     0.0115 Validation Accuracy: 0.722000\n",
      "Epoch 33, CIFAR-10 Batch 5:  Epoch 33Loss:     0.0017 Validation Accuracy: 0.720400\n",
      "Epoch 34, CIFAR-10 Batch 1:  Epoch 34Loss:     0.0020 Validation Accuracy: 0.722800\n",
      "Epoch 34, CIFAR-10 Batch 2:  Epoch 34Loss:     0.0062 Validation Accuracy: 0.719400\n",
      "Epoch 34, CIFAR-10 Batch 3:  Epoch 34Loss:     0.0047 Validation Accuracy: 0.701600\n",
      "Epoch 34, CIFAR-10 Batch 4:  Epoch 34Loss:     0.0052 Validation Accuracy: 0.720400\n",
      "Epoch 34, CIFAR-10 Batch 5:  Epoch 34Loss:     0.0028 Validation Accuracy: 0.731200\n",
      "Epoch 35, CIFAR-10 Batch 1:  Epoch 35Loss:     0.0095 Validation Accuracy: 0.724800\n",
      "Epoch 35, CIFAR-10 Batch 2:  Epoch 35Loss:     0.0011 Validation Accuracy: 0.728000\n",
      "Epoch 35, CIFAR-10 Batch 3:  Epoch 35Loss:     0.0082 Validation Accuracy: 0.726600\n",
      "Epoch 35, CIFAR-10 Batch 4:  Epoch 35Loss:     0.0035 Validation Accuracy: 0.719600\n",
      "Epoch 35, CIFAR-10 Batch 5:  Epoch 35Loss:     0.0005 Validation Accuracy: 0.725200\n",
      "Epoch 36, CIFAR-10 Batch 1:  Epoch 36Loss:     0.0103 Validation Accuracy: 0.723000\n",
      "Epoch 36, CIFAR-10 Batch 2:  Epoch 36Loss:     0.0019 Validation Accuracy: 0.723800\n",
      "Epoch 36, CIFAR-10 Batch 3:  Epoch 36Loss:     0.0021 Validation Accuracy: 0.722800\n",
      "Epoch 36, CIFAR-10 Batch 4:  Epoch 36Loss:     0.0124 Validation Accuracy: 0.718000\n",
      "Epoch 36, CIFAR-10 Batch 5:  Epoch 36Loss:     0.0018 Validation Accuracy: 0.722400\n",
      "Epoch 37, CIFAR-10 Batch 1:  Epoch 37Loss:     0.0055 Validation Accuracy: 0.715200\n",
      "Epoch 37, CIFAR-10 Batch 2:  Epoch 37Loss:     0.0038 Validation Accuracy: 0.705600\n",
      "Epoch 37, CIFAR-10 Batch 3:  Epoch 37Loss:     0.0031 Validation Accuracy: 0.723600\n",
      "Epoch 37, CIFAR-10 Batch 4:  Epoch 37Loss:     0.0048 Validation Accuracy: 0.725800\n",
      "Epoch 37, CIFAR-10 Batch 5:  Epoch 37Loss:     0.0038 Validation Accuracy: 0.715800\n",
      "Epoch 38, CIFAR-10 Batch 1:  Epoch 38Loss:     0.0052 Validation Accuracy: 0.725200\n",
      "Epoch 38, CIFAR-10 Batch 2:  Epoch 38Loss:     0.0015 Validation Accuracy: 0.717800\n",
      "Epoch 38, CIFAR-10 Batch 3:  Epoch 38Loss:     0.0035 Validation Accuracy: 0.723200\n",
      "Epoch 38, CIFAR-10 Batch 4:  Epoch 38Loss:     0.0032 Validation Accuracy: 0.723800\n",
      "Epoch 38, CIFAR-10 Batch 5:  Epoch 38Loss:     0.0152 Validation Accuracy: 0.723200\n",
      "Epoch 39, CIFAR-10 Batch 1:  Epoch 39Loss:     0.0106 Validation Accuracy: 0.726000\n",
      "Epoch 39, CIFAR-10 Batch 2:  Epoch 39Loss:     0.0012 Validation Accuracy: 0.719200\n",
      "Epoch 39, CIFAR-10 Batch 3:  Epoch 39Loss:     0.0024 Validation Accuracy: 0.718000\n",
      "Epoch 39, CIFAR-10 Batch 4:  Epoch 39Loss:     0.0040 Validation Accuracy: 0.719600\n",
      "Epoch 39, CIFAR-10 Batch 5:  Epoch 39Loss:     0.0010 Validation Accuracy: 0.720200\n",
      "Epoch 40, CIFAR-10 Batch 1:  Epoch 40Loss:     0.0103 Validation Accuracy: 0.725200\n",
      "Epoch 40, CIFAR-10 Batch 2:  Epoch 40Loss:     0.0004 Validation Accuracy: 0.733600\n",
      "Epoch 40, CIFAR-10 Batch 3:  Epoch 40Loss:     0.0046 Validation Accuracy: 0.720600\n",
      "Epoch 40, CIFAR-10 Batch 4:  Epoch 40Loss:     0.0020 Validation Accuracy: 0.728600\n",
      "Epoch 40, CIFAR-10 Batch 5:  Epoch 40Loss:     0.0052 Validation Accuracy: 0.723600\n",
      "Epoch 41, CIFAR-10 Batch 1:  Epoch 41Loss:     0.0219 Validation Accuracy: 0.719400\n",
      "Epoch 41, CIFAR-10 Batch 2:  Epoch 41Loss:     0.0012 Validation Accuracy: 0.728400\n",
      "Epoch 41, CIFAR-10 Batch 3:  Epoch 41Loss:     0.0108 Validation Accuracy: 0.725600\n",
      "Epoch 41, CIFAR-10 Batch 4:  Epoch 41Loss:     0.0056 Validation Accuracy: 0.719600\n",
      "Epoch 41, CIFAR-10 Batch 5:  Epoch 41Loss:     0.0156 Validation Accuracy: 0.719000\n",
      "Epoch 42, CIFAR-10 Batch 1:  Epoch 42Loss:     0.0013 Validation Accuracy: 0.726000\n",
      "Epoch 42, CIFAR-10 Batch 2:  Epoch 42Loss:     0.0027 Validation Accuracy: 0.718000\n",
      "Epoch 42, CIFAR-10 Batch 3:  Epoch 42Loss:     0.0037 Validation Accuracy: 0.725600\n",
      "Epoch 42, CIFAR-10 Batch 4:  Epoch 42Loss:     0.0059 Validation Accuracy: 0.716200\n",
      "Epoch 42, CIFAR-10 Batch 5:  Epoch 42Loss:     0.0005 Validation Accuracy: 0.725400\n",
      "Epoch 43, CIFAR-10 Batch 1:  Epoch 43Loss:     0.0022 Validation Accuracy: 0.736000\n",
      "Epoch 43, CIFAR-10 Batch 2:  Epoch 43Loss:     0.0025 Validation Accuracy: 0.729000\n",
      "Epoch 43, CIFAR-10 Batch 3:  Epoch 43Loss:     0.0080 Validation Accuracy: 0.720600\n",
      "Epoch 43, CIFAR-10 Batch 4:  Epoch 43Loss:     0.0030 Validation Accuracy: 0.732000\n",
      "Epoch 43, CIFAR-10 Batch 5:  Epoch 43Loss:     0.0111 Validation Accuracy: 0.710000\n",
      "Epoch 44, CIFAR-10 Batch 1:  Epoch 44Loss:     0.0138 Validation Accuracy: 0.721800\n",
      "Epoch 44, CIFAR-10 Batch 2:  Epoch 44Loss:     0.0007 Validation Accuracy: 0.729400\n",
      "Epoch 44, CIFAR-10 Batch 3:  Epoch 44Loss:     0.0011 Validation Accuracy: 0.730000\n",
      "Epoch 44, CIFAR-10 Batch 4:  Epoch 44Loss:     0.0014 Validation Accuracy: 0.727000\n",
      "Epoch 44, CIFAR-10 Batch 5:  Epoch 44Loss:     0.0011 Validation Accuracy: 0.726200\n",
      "Epoch 45, CIFAR-10 Batch 1:  Epoch 45Loss:     0.0023 Validation Accuracy: 0.731400\n",
      "Epoch 45, CIFAR-10 Batch 2:  Epoch 45Loss:     0.0006 Validation Accuracy: 0.728200\n",
      "Epoch 45, CIFAR-10 Batch 3:  Epoch 45Loss:     0.0005 Validation Accuracy: 0.736000\n",
      "Epoch 45, CIFAR-10 Batch 4:  Epoch 45Loss:     0.0005 Validation Accuracy: 0.715200\n",
      "Epoch 45, CIFAR-10 Batch 5:  Epoch 45Loss:     0.0012 Validation Accuracy: 0.715800\n",
      "Epoch 46, CIFAR-10 Batch 1:  Epoch 46Loss:     0.0172 Validation Accuracy: 0.721800\n",
      "Epoch 46, CIFAR-10 Batch 2:  Epoch 46Loss:     0.0024 Validation Accuracy: 0.727000\n",
      "Epoch 46, CIFAR-10 Batch 3:  Epoch 46Loss:     0.0009 Validation Accuracy: 0.727200\n",
      "Epoch 46, CIFAR-10 Batch 4:  Epoch 46Loss:     0.0007 Validation Accuracy: 0.728200\n",
      "Epoch 46, CIFAR-10 Batch 5:  Epoch 46Loss:     0.0004 Validation Accuracy: 0.726600\n",
      "Epoch 47, CIFAR-10 Batch 1:  Epoch 47Loss:     0.0015 Validation Accuracy: 0.722200\n",
      "Epoch 47, CIFAR-10 Batch 2:  Epoch 47Loss:     0.0004 Validation Accuracy: 0.736400\n",
      "Epoch 47, CIFAR-10 Batch 3:  Epoch 47Loss:     0.0084 Validation Accuracy: 0.718800\n",
      "Epoch 47, CIFAR-10 Batch 4:  Epoch 47Loss:     0.0011 Validation Accuracy: 0.733200\n",
      "Epoch 47, CIFAR-10 Batch 5:  Epoch 47Loss:     0.0014 Validation Accuracy: 0.729000\n",
      "Epoch 48, CIFAR-10 Batch 1:  Epoch 48Loss:     0.0009 Validation Accuracy: 0.734200\n",
      "Epoch 48, CIFAR-10 Batch 2:  Epoch 48Loss:     0.0003 Validation Accuracy: 0.729000\n",
      "Epoch 48, CIFAR-10 Batch 3:  Epoch 48Loss:     0.0018 Validation Accuracy: 0.716600\n",
      "Epoch 48, CIFAR-10 Batch 4:  Epoch 48Loss:     0.0007 Validation Accuracy: 0.727200\n",
      "Epoch 48, CIFAR-10 Batch 5:  Epoch 48Loss:     0.0027 Validation Accuracy: 0.729200\n",
      "Epoch 49, CIFAR-10 Batch 1:  Epoch 49Loss:     0.0005 Validation Accuracy: 0.725200\n",
      "Epoch 49, CIFAR-10 Batch 2:  Epoch 49Loss:     0.0171 Validation Accuracy: 0.722200\n",
      "Epoch 49, CIFAR-10 Batch 3:  Epoch 49Loss:     0.0002 Validation Accuracy: 0.712800\n",
      "Epoch 49, CIFAR-10 Batch 4:  Epoch 49Loss:     0.0023 Validation Accuracy: 0.731600\n",
      "Epoch 49, CIFAR-10 Batch 5:  Epoch 49Loss:     0.0037 Validation Accuracy: 0.716800\n",
      "Epoch 50, CIFAR-10 Batch 1:  Epoch 50Loss:     0.0007 Validation Accuracy: 0.731800\n",
      "Epoch 50, CIFAR-10 Batch 2:  Epoch 50Loss:     0.0003 Validation Accuracy: 0.736800\n",
      "Epoch 50, CIFAR-10 Batch 3:  Epoch 50Loss:     0.0001 Validation Accuracy: 0.730200\n",
      "Epoch 50, CIFAR-10 Batch 4:  Epoch 50Loss:     0.0006 Validation Accuracy: 0.732400\n",
      "Epoch 50, CIFAR-10 Batch 5:  Epoch 50Loss:     0.0101 Validation Accuracy: 0.731600\n"
     ]
    }
   ],
   "source": [
    "\"\"\"\n",
    "DON'T MODIFY ANYTHING IN THIS CELL\n",
    "\"\"\"\n",
    "save_model_path = './image_classification'\n",
    "\n",
    "print('Training...')\n",
    "with tf.Session() as sess:\n",
    "    # Initializing the variables\n",
    "    sess.run(tf.global_variables_initializer())\n",
    "    \n",
    "    # Training cycle\n",
    "    for epoch in range(epochs):\n",
    "        # Loop over all batches\n",
    "        n_batches = 5\n",
    "        for batch_i in range(1, n_batches + 1):\n",
    "            for batch_features, batch_labels in helper.load_preprocess_training_batch(batch_i, batch_size):\n",
    "                train_neural_network(sess, optimizer, keep_probability, batch_features, batch_labels)\n",
    "            print('Epoch {:>2}, CIFAR-10 Batch {}:  '.format(epoch + 1, batch_i), end='')\n",
    "            print_stats(sess, batch_features, batch_labels, cost, accuracy)\n",
    "            \n",
    "    # Save Model\n",
    "    saver = tf.train.Saver()\n",
    "    save_path = saver.save(sess, save_model_path)"
   ]
  },
  {
   "cell_type": "markdown",
   "metadata": {
    "colab_type": "text",
    "id": "pRSy5ogAMzCQ"
   },
   "source": [
    "# Checkpoint\n",
    "The model has been saved to disk.\n",
    "## Test Model\n",
    "Test your model against the test dataset.  This will be your final accuracy. You should have an accuracy greater than 50%. If you don't, keep tweaking the model architecture and parameters."
   ]
  },
  {
   "cell_type": "code",
   "execution_count": 19,
   "metadata": {
    "colab": {},
    "colab_type": "code",
    "id": "6iTqXPqIMzCR"
   },
   "outputs": [
    {
     "name": "stdout",
     "output_type": "stream",
     "text": [
      "INFO:tensorflow:Restoring parameters from ./image_classification\n",
      "Testing Accuracy: 0.7202333860759493\n",
      "\n"
     ]
    },
    {
     "data": {
      "image/png": "[encoded data removed]",
      "text/plain": [
       "<Figure size 1152x2592 with 20 Axes>"
      ]
     },
     "metadata": {
      "image/png": {
       "height": 2854,
       "width": 990
      },
      "needs_background": "light"
     },
     "output_type": "display_data"
    }
   ],
   "source": [
    "\"\"\"\n",
    "DON'T MODIFY ANYTHING IN THIS CELL\n",
    "\"\"\"\n",
    "%matplotlib inline\n",
    "%config InlineBackend.figure_format = 'retina'\n",
    "\n",
    "import tensorflow as tf\n",
    "import pickle\n",
    "import helper\n",
    "import random\n",
    "\n",
    "# Set batch size if not already set\n",
    "try:\n",
    "    if batch_size:\n",
    "        pass\n",
    "except NameError:\n",
    "    batch_size = 64\n",
    "\n",
    "save_model_path = './image_classification'\n",
    "n_samples = 10\n",
    "top_n_predictions = 3\n",
    "\n",
    "def test_model():\n",
    "    \"\"\"\n",
    "    Test the saved model against the test dataset\n",
    "    \"\"\"\n",
    "\n",
    "    test_features, test_labels = pickle.load(open('preprocess_test.p', mode='rb'))\n",
    "    loaded_graph = tf.Graph()\n",
    "\n",
    "    with tf.Session(graph=loaded_graph) as sess:\n",
    "        # Load model\n",
    "        loader = tf.train.import_meta_graph(save_model_path + '.meta')\n",
    "        loader.restore(sess, save_model_path)\n",
    "\n",
    "        # Get Tensors from loaded model\n",
    "        loaded_x = loaded_graph.get_tensor_by_name('x:0')\n",
    "        loaded_y = loaded_graph.get_tensor_by_name('y:0')\n",
    "        loaded_keep_prob = loaded_graph.get_tensor_by_name('keep_prob:0')\n",
    "        loaded_logits = loaded_graph.get_tensor_by_name('logits:0')\n",
    "        loaded_acc = loaded_graph.get_tensor_by_name('accuracy:0')\n",
    "        \n",
    "        # Get accuracy in batches for memory limitations\n",
    "        test_batch_acc_total = 0\n",
    "        test_batch_count = 0\n",
    "        \n",
    "        for train_feature_batch, train_label_batch in helper.batch_features_labels(test_features, test_labels, batch_size):\n",
    "            test_batch_acc_total += sess.run(\n",
    "                loaded_acc,\n",
    "                feed_dict={loaded_x: train_feature_batch, loaded_y: train_label_batch, loaded_keep_prob: 1.0})\n",
    "            test_batch_count += 1\n",
    "\n",
    "        print('Testing Accuracy: {}\\n'.format(test_batch_acc_total/test_batch_count))\n",
    "\n",
    "        # Print Random Samples\n",
    "        random_test_features, random_test_labels = tuple(zip(*random.sample(list(zip(test_features, test_labels)), n_samples)))\n",
    "        random_test_predictions = sess.run(\n",
    "            tf.nn.top_k(tf.nn.softmax(loaded_logits), top_n_predictions),\n",
    "            feed_dict={loaded_x: random_test_features, loaded_y: random_test_labels, loaded_keep_prob: 1.0})\n",
    "        helper.display_image_predictions(random_test_features, random_test_labels, random_test_predictions, n_samples)\n",
    "\n",
    "\n",
    "test_model()"
   ]
  },
  {
   "cell_type": "markdown",
   "metadata": {
    "colab_type": "text",
    "id": "RPwUj_87MzCU"
   },
   "source": [
    "## Why 50-80% Accuracy?\n",
    "You might be wondering why you can't get an accuracy any higher. First things first, 50% isn't bad for a simple CNN.  Pure guessing would get you 10% accuracy. However, you might follow the CNN stucture where people are getting scores [well above 80%](http://rodrigob.github.io/are_we_there_yet/build/classification_datasets_results.html#43494641522d3130)."
   ]
  },
  {
   "cell_type": "markdown",
   "metadata": {
    "colab_type": "text",
    "id": "MBSRtNgFMzCV"
   },
   "source": [
    "## 做完練習後，請執行以下 cell 來刪除圖片檔案，避免各位的硬碟空間不足 !! (可能會開不了 hub)"
   ]
  },
  {
   "cell_type": "code",
   "execution_count": 20,
   "metadata": {
    "colab": {},
    "colab_type": "code",
    "id": "a4dYOcfVMzCW"
   },
   "outputs": [
    {
     "name": "stdout",
     "output_type": "stream",
     "text": [
      "rm: cannot remove 'cifar-10-python.tar.gz': No such file or directory\n"
     ]
    }
   ],
   "source": [
    "!rm cifar-10-python.tar.gz\n",
    "!rm preprocess_batch_1.p\n",
    "!rm preprocess_batch_2.p\n",
    "!rm preprocess_batch_3.p\n",
    "!rm preprocess_batch_4.p\n",
    "!rm preprocess_batch_5.p\n",
    "!rm preprocess_validation.p"
   ]
  }
 ],
 "metadata": {
  "colab": {
   "collapsed_sections": [],
   "name": "practice_cifar10_tensorflow.ipynb",
   "provenance": [],
   "version": "0.3.2"
  },
  "kernelspec": {
   "display_name": "Python 3",
   "language": "python",
   "name": "python3"
  },
  "language_info": {
   "codemirror_mode": {
    "name": "ipython",
    "version": 3
   },
   "file_extension": ".py",
   "mimetype": "text/x-python",
   "name": "python",
   "nbconvert_exporter": "python",
   "pygments_lexer": "ipython3",
   "version": "3.6.6"
  }
 },
 "nbformat": 4,
 "nbformat_minor": 2
}
